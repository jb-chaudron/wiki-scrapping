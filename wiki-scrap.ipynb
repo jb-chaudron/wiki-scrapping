{
 "cells": [
  {
   "cell_type": "markdown",
   "id": "4edd438a-1276-4e8d-b633-b267cbd73ee5",
   "metadata": {
    "tags": []
   },
   "source": [
    "# Importation des bibliothèques d'intérêt"
   ]
  },
  {
   "cell_type": "code",
   "execution_count": 89,
   "id": "e2cc802a-c4b1-4228-b1d4-8b6abee23c36",
   "metadata": {
    "tags": []
   },
   "outputs": [],
   "source": [
    "import wikipediaapi as ww\n",
    "import networkx as nx"
   ]
  },
  {
   "cell_type": "markdown",
   "id": "e0a7e014-1678-4a6f-86f7-b83a01e0086d",
   "metadata": {},
   "source": [
    "# Set wiki fr"
   ]
  },
  {
   "cell_type": "code",
   "execution_count": 40,
   "id": "af4b515b-c04f-4c03-9cea-2f0437ae8812",
   "metadata": {
    "tags": []
   },
   "outputs": [],
   "source": [
    "wiki = ww.Wikipedia(\"fr\")"
   ]
  },
  {
   "cell_type": "markdown",
   "id": "ed1b91a5-8604-4dfc-9233-833b0ab51482",
   "metadata": {},
   "source": [
    "# Extraction des catégories"
   ]
  },
  {
   "cell_type": "code",
   "execution_count": 49,
   "id": "7ac64d66-74f9-4450-8c46-0e68e82ea86c",
   "metadata": {},
   "outputs": [],
   "source": [
    "pa = wiki.page(\"Catégorie:Article\")\n",
    "nodes = pa.links"
   ]
  },
  {
   "cell_type": "code",
   "execution_count": null,
   "id": "b142ffd6-77f1-4004-90e7-87646e2bacdc",
   "metadata": {},
   "outputs": [],
   "source": [
    "def print_categorymembers(categorymembers,level=0, max_level=1):\n",
    "    for c in "
   ]
  },
  {
   "cell_type": "code",
   "execution_count": 70,
   "id": "4ca81a4e-66aa-4bcb-b2ba-dad391cd295d",
   "metadata": {},
   "outputs": [],
   "source": [
    "ke =[x for x in nodes.keys()]"
   ]
  },
  {
   "cell_type": "code",
   "execution_count": 88,
   "id": "57623399-95dd-45a9-a894-a2356f55776a",
   "metadata": {},
   "outputs": [
    {
     "name": "stdout",
     "output_type": "stream",
     "text": [
      "6\n"
     ]
    }
   ],
   "source": [
    "print(len(pa.categorymembers.values()))\n",
    "\n",
    "#for i,j in nodes.items():\n",
    "#    print(wiki.page(j).sections)"
   ]
  },
  {
   "cell_type": "markdown",
   "id": "95cbe7f1-1692-4172-8cb9-4ce707cbc6f6",
   "metadata": {},
   "source": [
    "# Création du Graphe"
   ]
  },
  {
   "cell_type": "code",
   "execution_count": 56,
   "id": "42fd4f9c-1a82-4cd2-b19d-35f7c1ebbe72",
   "metadata": {},
   "outputs": [],
   "source": [
    "G = nx.DiGraph()\n",
    "G.add_nodes_from([x for x in pa.links.keys()])"
   ]
  }
 ],
 "metadata": {
  "kernelspec": {
   "display_name": "Python 3 (ipykernel)",
   "language": "python",
   "name": "python3"
  },
  "language_info": {
   "codemirror_mode": {
    "name": "ipython",
    "version": 3
   },
   "file_extension": ".py",
   "mimetype": "text/x-python",
   "name": "python",
   "nbconvert_exporter": "python",
   "pygments_lexer": "ipython3",
   "version": "3.7.3"
  }
 },
 "nbformat": 4,
 "nbformat_minor": 5
}
